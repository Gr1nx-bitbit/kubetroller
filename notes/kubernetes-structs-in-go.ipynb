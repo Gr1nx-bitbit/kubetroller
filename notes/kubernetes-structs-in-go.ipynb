{
 "cells": [
  {
   "cell_type": "markdown",
   "metadata": {},
   "source": [
    "While each Kind in Kubernetes is unique, they all follow a similar structure. Each Kubernetes object satisfies a *runtime.Object* interface in Go which has the following structure."
   ]
  },
  {
   "cell_type": "code",
   "execution_count": null,
   "metadata": {
    "vscode": {
     "languageId": "plaintext"
    }
   },
   "outputs": [],
   "source": [
    "type Object interface {\n",
    "    GetObjectKind() schema.ObjectKind\n",
    "    \n",
    "    type ObjectKind interface {\n",
    "        SetGroupVersionKind(kind GroupVersionKind)\n",
    "        GroupVersionKind() GroupVersionKind\n",
    "    }\n",
    "}"
   ]
  },
  {
   "cell_type": "markdown",
   "metadata": {},
   "source": [
    "This allows for the object to be deep copied and have its GroupVersionKind both returned to the user and set. Beyond those interfaces, TypeMeta provides how the object is represented through the API and looks like so."
   ]
  },
  {
   "cell_type": "code",
   "execution_count": null,
   "metadata": {
    "vscode": {
     "languageId": "plaintext"
    }
   },
   "outputs": [],
   "source": [
    "type TypeMeta struct {\n",
    "    Kind string `json: \"kind, omitempty\" protobuf: \"bytes, 1, opt, name=kind\"`\n",
    "    APIVersion string `json: \"apiversion, omitempty\"`\n",
    "}\n",
    "\n",
    "// an actual kind definition in Go would look something like the following\n",
    "\n",
    "type CustomResource struct {\n",
    "    metav1.TypeMeta `json: \"inline\"`\n",
    "    metav1.ObjectMeta `json: \"metadata, omitempty\"`\n",
    "    Spec CustomResourceSpec `json: \"spec, omitempty\"`\n",
    "    Status CustomResourceStatus `json: \"status, omitempty\"`\n",
    "}\n",
    "\n",
    "// you will then have to implement the methods required by the runtime.Object interface for it to be usable"
   ]
  },
  {
   "cell_type": "markdown",
   "metadata": {},
   "source": []
  }
 ],
 "metadata": {
  "language_info": {
   "name": "python"
  }
 },
 "nbformat": 4,
 "nbformat_minor": 2
}
