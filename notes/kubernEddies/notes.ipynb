{
 "cells": [
  {
   "cell_type": "markdown",
   "metadata": {},
   "source": [
    "This is kind of like a tutorial on how to make a controller. The nice thing is that it's a video and you can follow along with the slides and repo. Heres the [link](https://www.youtube.com/watch?v=J0n4n2RtbGs) to it.\n",
    "\n",
    "So for my CRD I am going to have the PodCustomizer. This resource will either take pods without an owner reference and promote it to a deployment or delete depending on the option you have chosen. The CRD can look something like this:"
   ]
  },
  {
   "cell_type": "code",
   "execution_count": null,
   "metadata": {
    "vscode": {
     "languageId": "plaintext"
    }
   },
   "outputs": [],
   "source": [
    "apiVersion: apiextensions.k8s.io/v1\n",
    "kind: CustomResourceDefinition\n",
    "metadata:\n",
    "    name: podcustomizer.gr1nx.dev # resource and group\n",
    "spec:\n",
    "    group: gr1nx.dev\n",
    "    versions:\n",
    "        - name: v1\n",
    "          served: true      # tells the apiServer that an endpoint is needed for this resource\n",
    "          storage: true     # tells the apiServer to store the object in ETCD\n",
    "          shceme:\n",
    "            openAPIV3Schema:\n",
    "                type: object\n",
    "                properties: # fields inside the spec\n",
    "                    spec:\n",
    "                        type: object\n",
    "                        properties:\n",
    "                            promote:\n",
    "                                type: bool\n",
    "                    status: # this can contain an array of the names of the pods promoted or destroyed\n",
    "                        type: object\n",
    "                        properties:\n",
    "                            numPromoted:\n",
    "                                type: integer\n",
    "                            numDestroyed:\n",
    "                                type: integer\n",
    "                            observedGeneration: # this counts how many times we've operated on a specific resource and if we need to operate again\n",
    "                                type: integer\n",
    "                                format: int64    \n",
    "            subresources:\n",
    "                status: {}\n",
    "            additionalPrinterColumns:\n",
    "            - name: promoter\n",
    "              type: bool\n",
    "              jsonPath: .spec.promote\n",
    "            - name: podsDestroyed\n",
    "              type: integer\n",
    "              jsonPath: .status.numDestroyed\n",
    "            - name: podsPromoted\n",
    "              type: integer\n",
    "              jsonPath: .status.numPromoted\n",
    "     scope: Namespaced\n",
    "     names:\n",
    "        plural: podcustomizers\n",
    "        singular: podcustomizer\n",
    "        kind: PodCustomizer"
   ]
  },
  {
   "cell_type": "markdown",
   "metadata": {},
   "source": [
    "Here's a [link](https://github.com/eddiezane/that-conference-k8s-controller) to the repo that is used in the talk. Most of it is copy paste from other controllers so its pretty dry. I'll write about what changes we are actually making though! The github repo contains all the code that is used in the talk and it also uses GCP. I wanna see if we can make our PodCustomizer controller and then port what this guy did to AWS."
   ]
  }
 ],
 "metadata": {
  "language_info": {
   "name": "python"
  }
 },
 "nbformat": 4,
 "nbformat_minor": 2
}
