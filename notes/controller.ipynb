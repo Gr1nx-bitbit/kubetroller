{
 "cells": [
  {
   "cell_type": "markdown",
   "metadata": {},
   "source": [
    "As we've written previously, our controller source code has to be written in a specific format i.e. in the *group/version/resource* structure. The actual reason behind this is because of the API Machinery library. It gives us the tooling to serialize go types via JSON, YAML, and Protobuf and we have to follow the library's specs so that it will know how to parse our custom resources over the wire. \n",
    "\n",
    "The *types.go* file is particularly important since it defines all your Kinds and their subtrcutures. For my PodDeleter Kind I might have a struct inside *types.go* that might look something like this."
   ]
  },
  {
   "cell_type": "code",
   "execution_count": null,
   "metadata": {
    "vscode": {
     "languageId": "plaintext"
    }
   },
   "outputs": [],
   "source": [
    "const (\n",
    "    ActiveState  = \"ACTIVE\"\n",
    "    DormantState = \"DORMANT\"\n",
    ")\n",
    "\n",
    "type PodDeleter struct {\n",
    "    metav1.TypeMeta // remember that each Kubernetes Kind MUST have these two top fields!!\n",
    "    metav1.ObjectMeta\n",
    "\n",
    "    Spec PodDeleterSpec\n",
    "    Status PodDeleterStatus\n",
    "}\n",
    "\n",
    "type PodDeleterSpec struct {\n",
    "    DeleteAll bool // delete either the pod it detects or all pods in the current namespace after detecing a new one\n",
    "}\n",
    "\n",
    "type PodDeleterStatus struct {\n",
    "    State string // this would take the value of either ActiveState or DormantState\n",
    "                 // actually, idek if this would be doable since idk if client-go has \n",
    "                 // a way of retrieving all pods in a namespace\n",
    "}"
   ]
  }
 ],
 "metadata": {
  "language_info": {
   "name": "python"
  }
 },
 "nbformat": 4,
 "nbformat_minor": 2
}
