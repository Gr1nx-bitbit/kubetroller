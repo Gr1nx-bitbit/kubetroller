{
 "cells": [
  {
   "cell_type": "markdown",
   "metadata": {},
   "source": [
    "The first step to making a custom controller is to ensure you're using the right package / group names. Locally, I've cloned the sample controller repo and am using it as a base and modifying it to my needs. **Back to the first step**, which in this case entails rewriting the directory *pkg/apis/samplecontroller* to *pkg/apis/poddeleter*. **Then we have to make our CRDs**. In my case, I'm making a PodDeleter which will have just a couple of specs; delete a pod when the controller detects one being made, delete all pods in the current ns when it detects a pod being created. I'm going to change the CRDs and CRs so that they are conformant to what I want – a pod deleter. **Whenever you change something from the baseline in the sample-controller project, you have to run *hack/update-codegen.sh* to regenrate dependent files!!!** Uhh, my update script isn't working... well, we'll just have to continue! I updated the structs in *types.go* so that should cover all the config stuff. To recap, we changed the group name as well as the yaml manifest files. After that we changed the structs in *types.go* so we could have the golang reps of our manifest files. Now we can get to actually customizing the controller although it might be smarter to just modify the behavior of the Foo resource. Ok. This book is outdated!! However, we're supposed to change the logic inside of the *synchandler()* method in *controller.go* so that it fits our needs. This method is used by *processNextWorkItem()* and is the business logic!! The basic idea is that *processNextItem()* will get the result and err from *synchandler()* and then either requeue the object or forget / discard it based on whether or not we were able to reconcile the state of the cluster. Along with that, you have to modify the *NewController()* method and add your custom resource to the scheme as well as set up event broadcasters and event listeners. It seems like a lot of the methods you're going to use are just generated though... In essence, writing the controller from the sample-controller project is good exposure but it's a crap ton of boiler plate. Using a framework like Kubebuilder or Operator SDK should help considerably. In short, we need to look at some other resources because they explained this one very crappily. It's a good basis but not enough to actually write our own controller. "
   ]
  }
 ],
 "metadata": {
  "language_info": {
   "name": "python"
  }
 },
 "nbformat": 4,
 "nbformat_minor": 2
}
